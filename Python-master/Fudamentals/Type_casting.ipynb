{
 "cells": [
  {
   "cell_type": "code",
   "execution_count": 1,
   "id": "b32d69ec",
   "metadata": {},
   "outputs": [
    {
     "name": "stdout",
     "output_type": "stream",
     "text": [
      "12.5\n",
      "<class 'float'>\n"
     ]
    }
   ],
   "source": [
    "x = 10    \n",
    "y = 2.5    \n",
    "\n",
    "result = x + y \n",
    "print(result)  \n",
    "print(type(result))"
   ]
  },
  {
   "cell_type": "code",
   "execution_count": 9,
   "id": "0466ec21",
   "metadata": {},
   "outputs": [
    {
     "name": "stdout",
     "output_type": "stream",
     "text": [
      "5\n",
      "10\n",
      "10\n",
      "['h', 'e', 'l', 'l', 'o']\n",
      "(1, 2, 3)\n",
      "{1, 2, 3}\n"
     ]
    }
   ],
   "source": [
    "# Float to int\n",
    "a = 5.9\n",
    "print(int(a)) \n",
    "\n",
    "# String to int\n",
    "b = \"10\"\n",
    "print(int(b)) \n",
    "\n",
    "# String with decimal to int\n",
    "c = \"10.5\"\n",
    "print(int(float(c))) \n",
    "\n",
    "# String to list\n",
    "s = \"hello\"\n",
    "print(list(s))\n",
    "\n",
    "# List to tuple\n",
    "l = [1, 2, 3]\n",
    "print(tuple(l))\n",
    "\n",
    "# Tuple to set\n",
    "t = (1, 2, 2, 3)\n",
    "print(set(t))"
   ]
  }
 ],
 "metadata": {
  "kernelspec": {
   "display_name": "Python 3",
   "language": "python",
   "name": "python3"
  },
  "language_info": {
   "codemirror_mode": {
    "name": "ipython",
    "version": 3
   },
   "file_extension": ".py",
   "mimetype": "text/x-python",
   "name": "python",
   "nbconvert_exporter": "python",
   "pygments_lexer": "ipython3",
   "version": "3.13.2"
  }
 },
 "nbformat": 4,
 "nbformat_minor": 5
}
