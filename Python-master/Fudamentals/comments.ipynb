{
 "cells": [
  {
   "cell_type": "code",
   "execution_count": 1,
   "id": "4ed957c9",
   "metadata": {},
   "outputs": [
    {
     "name": "stdout",
     "output_type": "stream",
     "text": [
      "Hello, Vikash\n"
     ]
    }
   ],
   "source": [
    "# This is a single-line comment\n",
    "print(\"Hello, Vikash\")  # This is inline comment\n"
   ]
  },
  {
   "cell_type": "code",
   "execution_count": null,
   "id": "61e7b2a3",
   "metadata": {},
   "outputs": [],
   "source": [
    "# This is a multi-line comment\n",
    "# using multiple single-line comments\n",
    "# to span across several lines."
   ]
  },
  {
   "cell_type": "code",
   "execution_count": 2,
   "id": "a4632e32",
   "metadata": {},
   "outputs": [
    {
     "name": "stdout",
     "output_type": "stream",
     "text": [
      "Hello, Vikash\n"
     ]
    }
   ],
   "source": [
    "\"\"\"\n",
    "This is a multi-line string that can serve\n",
    "as a multi-line comment.\n",
    "\"\"\"\n",
    "print(\"Hello, Vikash\")"
   ]
  }
 ],
 "metadata": {
  "kernelspec": {
   "display_name": "Python 3",
   "language": "python",
   "name": "python3"
  },
  "language_info": {
   "codemirror_mode": {
    "name": "ipython",
    "version": 3
   },
   "file_extension": ".py",
   "mimetype": "text/x-python",
   "name": "python",
   "nbconvert_exporter": "python",
   "pygments_lexer": "ipython3",
   "version": "3.13.2"
  }
 },
 "nbformat": 4,
 "nbformat_minor": 5
}
