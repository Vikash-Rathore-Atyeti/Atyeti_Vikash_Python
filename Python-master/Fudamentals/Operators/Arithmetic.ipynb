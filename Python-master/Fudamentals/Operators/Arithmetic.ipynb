{
 "cells": [
  {
   "cell_type": "code",
   "execution_count": null,
   "id": "e00086e3",
   "metadata": {},
   "outputs": [
    {
     "name": "stdout",
     "output_type": "stream",
     "text": [
      "Addition: 19\n",
      "Subtraction: 11\n",
      "Multiplication: 60\n",
      "Division: 3.75\n",
      "Floor Division: 3\n",
      "Modulus: 3\n",
      "Exponentiation: 50625\n"
     ]
    }
   ],
   "source": [
    "a = 15\n",
    "b = 4\n",
    "\n",
    "print(\"Addition:\", a + b)      \n",
    "print(\"Subtraction:\", a - b)     \n",
    "print(\"Multiplication:\", a * b)  \n",
    "print(\"Division:\", a / b)        \n",
    "print(\"Floor Division:\", a // b) \n",
    "print(\"Modulus:\", a % b)         \n",
    "print(\"Exponentiation:\", a ** b) "
   ]
  }
 ],
 "metadata": {
  "kernelspec": {
   "display_name": "Python 3",
   "language": "python",
   "name": "python3"
  },
  "language_info": {
   "codemirror_mode": {
    "name": "ipython",
    "version": 3
   },
   "file_extension": ".py",
   "mimetype": "text/x-python",
   "name": "python",
   "nbconvert_exporter": "python",
   "pygments_lexer": "ipython3",
   "version": "3.13.2"
  }
 },
 "nbformat": 4,
 "nbformat_minor": 5
}
