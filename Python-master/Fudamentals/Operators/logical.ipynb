{
 "cells": [
  {
   "cell_type": "code",
   "execution_count": 2,
   "id": "53f6dea8",
   "metadata": {},
   "outputs": [
    {
     "name": "stdout",
     "output_type": "stream",
     "text": [
      "True\n",
      "False\n"
     ]
    }
   ],
   "source": [
    "# AND Operator\n",
    "a = 10\n",
    "b = 20\n",
    "\n",
    "# when both conditions are True\n",
    "print(a > 5 and b > 15) \n",
    "\n",
    "# when one condition is False\n",
    "print(a > 15 and b > 15) "
   ]
  },
  {
   "cell_type": "code",
   "execution_count": 3,
   "id": "1717a5df",
   "metadata": {},
   "outputs": [
    {
     "name": "stdout",
     "output_type": "stream",
     "text": [
      "True\n",
      "False\n"
     ]
    }
   ],
   "source": [
    "# OR Operator\n",
    "a = 10\n",
    "b = 5\n",
    "\n",
    "# When one condition is True\n",
    "print(a > 5 or b > 10) \n",
    "\n",
    "# When both conditions are False\n",
    "print(a < 5 or b < 3)  \n"
   ]
  },
  {
   "cell_type": "code",
   "execution_count": 4,
   "id": "d51135a0",
   "metadata": {},
   "outputs": [
    {
     "name": "stdout",
     "output_type": "stream",
     "text": [
      "False\n",
      "True\n"
     ]
    }
   ],
   "source": [
    "# NOT operator\n",
    "a = True\n",
    "b = False\n",
    "\n",
    "print(not a)\n",
    "print(not b)"
   ]
  }
 ],
 "metadata": {
  "kernelspec": {
   "display_name": "Python 3",
   "language": "python",
   "name": "python3"
  },
  "language_info": {
   "codemirror_mode": {
    "name": "ipython",
    "version": 3
   },
   "file_extension": ".py",
   "mimetype": "text/x-python",
   "name": "python",
   "nbconvert_exporter": "python",
   "pygments_lexer": "ipython3",
   "version": "3.13.2"
  }
 },
 "nbformat": 4,
 "nbformat_minor": 5
}
