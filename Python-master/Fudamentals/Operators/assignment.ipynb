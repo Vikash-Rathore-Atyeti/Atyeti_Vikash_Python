{
 "cells": [
  {
   "cell_type": "code",
   "execution_count": 1,
   "id": "7cb0ed6b",
   "metadata": {},
   "outputs": [
    {
     "name": "stdout",
     "output_type": "stream",
     "text": [
      "15\n",
      "30\n",
      "20\n",
      "5.0\n"
     ]
    }
   ],
   "source": [
    "# Initialize variable x with value 10\n",
    "x = 10\n",
    "\n",
    "# Add x by 5 and assign to x\n",
    "x += 5 \n",
    "print(x)  \n",
    "\n",
    "# Multiply x by 2 and assign to x\n",
    "x *= 2\n",
    "print(x) \n",
    "\n",
    "# Subtract 10 from x and assign to x\n",
    "x -= 10  \n",
    "print(x)  \n",
    "\n",
    "# Divide x by 4 and assign to x\n",
    "x /= 4  \n",
    "print(x) "
   ]
  },
  {
   "cell_type": "code",
   "execution_count": null,
   "id": "56219be5",
   "metadata": {},
   "outputs": [],
   "source": []
  }
 ],
 "metadata": {
  "kernelspec": {
   "display_name": "Python 3",
   "language": "python",
   "name": "python3"
  },
  "language_info": {
   "codemirror_mode": {
    "name": "ipython",
    "version": 3
   },
   "file_extension": ".py",
   "mimetype": "text/x-python",
   "name": "python",
   "nbconvert_exporter": "python",
   "pygments_lexer": "ipython3",
   "version": "3.13.2"
  }
 },
 "nbformat": 4,
 "nbformat_minor": 5
}
