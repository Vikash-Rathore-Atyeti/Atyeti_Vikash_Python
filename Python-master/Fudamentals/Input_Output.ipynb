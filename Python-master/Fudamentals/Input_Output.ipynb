{
 "cells": [
  {
   "cell_type": "code",
   "execution_count": 1,
   "id": "0694a2eb",
   "metadata": {},
   "outputs": [
    {
     "name": "stdout",
     "output_type": "stream",
     "text": [
      "My name is Vikas and i'm 22 years old.\n"
     ]
    }
   ],
   "source": [
    "name = \"Vikas\"\n",
    "age = 22\n",
    "print(f\"My name is {name} and i'm {age} years old.\")\n"
   ]
  },
  {
   "cell_type": "code",
   "execution_count": 2,
   "id": "b4c138b4",
   "metadata": {},
   "outputs": [
    {
     "name": "stdout",
     "output_type": "stream",
     "text": [
      "Hello Vikash\n"
     ]
    }
   ],
   "source": [
    "name=input(\"What is your name\")\n",
    "print(f\"Hello\", name)"
   ]
  },
  {
   "cell_type": "code",
   "execution_count": 6,
   "id": "5d53501c",
   "metadata": {},
   "outputs": [
    {
     "name": "stdout",
     "output_type": "stream",
     "text": [
      "Vikas is 22 years old.\n"
     ]
    }
   ],
   "source": [
    "name = input(\"enter your name\")\n",
    "age = input((\"enter your age\"))\n",
    "print(\"{} is {} years old.\".format(name, age))"
   ]
  }
 ],
 "metadata": {
  "kernelspec": {
   "display_name": "Python 3",
   "language": "python",
   "name": "python3"
  },
  "language_info": {
   "codemirror_mode": {
    "name": "ipython",
    "version": 3
   },
   "file_extension": ".py",
   "mimetype": "text/x-python",
   "name": "python",
   "nbconvert_exporter": "python",
   "pygments_lexer": "ipython3",
   "version": "3.13.2"
  }
 },
 "nbformat": 4,
 "nbformat_minor": 5
}
