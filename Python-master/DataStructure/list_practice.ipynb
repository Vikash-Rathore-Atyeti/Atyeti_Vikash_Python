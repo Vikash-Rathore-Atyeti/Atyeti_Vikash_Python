{
 "cells": [
  {
   "cell_type": "code",
   "execution_count": 9,
   "id": "c67c9f96",
   "metadata": {},
   "outputs": [],
   "source": [
    "# Creating lists\n",
    "empty_list = []\n",
    "numbers = [1, 2, 3, 4, 5]\n",
    "mixed = [1, \"hello\", 3.14, True]\n",
    "nested = [1, [2, 3], [4, 5]]"
   ]
  },
  {
   "cell_type": "code",
   "execution_count": 2,
   "id": "b2c78bd5",
   "metadata": {},
   "outputs": [
    {
     "name": "stdout",
     "output_type": "stream",
     "text": [
      "True\n",
      "1\n"
     ]
    }
   ],
   "source": [
    "# Access using index\n",
    "mixed = [1, \"hello\", 3.14, True]\n",
    "print(mixed[-1])\n",
    "print(mixed[0])"
   ]
  },
  {
   "cell_type": "code",
   "execution_count": 3,
   "id": "5d54a417",
   "metadata": {},
   "outputs": [
    {
     "name": "stdout",
     "output_type": "stream",
     "text": [
      "[1, 2, 3]\n",
      "[0, 1, 2]\n",
      "[0, 2, 4]\n",
      "[5, 4, 3, 2, 1, 0]\n"
     ]
    }
   ],
   "source": [
    "#Slicing\n",
    "numbers = [0, 1, 2, 3, 4, 5]\n",
    "print(numbers[1:4])    \n",
    "print(numbers[:3])     \n",
    "print(numbers[::2])    \n",
    "print(numbers[::-1])"
   ]
  },
  {
   "cell_type": "code",
   "execution_count": 5,
   "id": "2e3b0548",
   "metadata": {},
   "outputs": [
    {
     "name": "stdout",
     "output_type": "stream",
     "text": [
      "Adding Elements\n",
      "[1, 2, 3, 4]\n",
      "[1, 1.5, 2, 3, 4]\n",
      "[1, 1.5, 2, 3, 4, 5, 6]\n",
      "Removing Elements\n",
      "[1, 1.5, 3, 4, 5, 6]\n",
      "6\n",
      "[1.5, 3, 4, 5]\n",
      "[]\n"
     ]
    }
   ],
   "source": [
    "my_list = [1, 2, 3]\n",
    "\n",
    "print(\"Adding Elements\")\n",
    "# Adds 4 at the end\n",
    "my_list.append(4)\n",
    "print(my_list) \n",
    "# Inserts 1.5 at index 1      \n",
    "my_list.insert(1, 1.5)\n",
    "print(my_list)\n",
    "# Extends list by [5, 6]     \n",
    "my_list.extend([5, 6])  \n",
    "print(my_list)   \n",
    "\n",
    "print(\"Removing Elements\")\n",
    "# Removes first occurrence of 2\n",
    "my_list.remove(2) \n",
    "print(my_list)\n",
    "# Removes and returns last item         \n",
    "popped = my_list.pop()  \n",
    "print(popped) \n",
    "# Deletes item at index 0  \n",
    "del my_list[0]\n",
    "print(my_list)   \n",
    "# Removes all items         \n",
    "my_list.clear()\n",
    "print(my_list)            \n",
    "\n"
   ]
  },
  {
   "cell_type": "code",
   "execution_count": 4,
   "id": "9434fca8",
   "metadata": {},
   "outputs": [
    {
     "name": "stdout",
     "output_type": "stream",
     "text": [
      "Usefull Methods\n",
      "[1, 2, 3]\n",
      "[3, 2, 1]\n",
      "1\n",
      "0\n"
     ]
    }
   ],
   "source": [
    "print(\"Usefull Methods\")\n",
    "my_list = [3, 1, 2]\n",
    "# Sorts the list\n",
    "my_list.sort()\n",
    "print(my_list)\n",
    "# Reverses the list           \n",
    "my_list.reverse()\n",
    "print(my_list)\n",
    "# Counts occurrences of 2        \n",
    "count = my_list.count(2)\n",
    "print(count)\n",
    "# Finds index of first occurrence of 3  \n",
    "index = my_list.index(3)\n",
    "print(index)"
   ]
  },
  {
   "cell_type": "code",
   "execution_count": 8,
   "id": "9e99d0b5",
   "metadata": {},
   "outputs": [
    {
     "name": "stdout",
     "output_type": "stream",
     "text": [
      "[0, 1, 4, 9, 16]\n",
      "[0, 2, 4, 6, 8]\n"
     ]
    }
   ],
   "source": [
    "# List Comprehension \n",
    "# Squares of numbers\n",
    "squares = [x**2 for x in range(5)]\n",
    "print(squares)\n",
    "\n",
    "# Even numbers\n",
    "evens = [x for x in range(10) if x % 2 == 0]\n",
    "print(evens) "
   ]
  }
 ],
 "metadata": {
  "kernelspec": {
   "display_name": "Python 3",
   "language": "python",
   "name": "python3"
  },
  "language_info": {
   "codemirror_mode": {
    "name": "ipython",
    "version": 3
   },
   "file_extension": ".py",
   "mimetype": "text/x-python",
   "name": "python",
   "nbconvert_exporter": "python",
   "pygments_lexer": "ipython3",
   "version": "3.13.2"
  }
 },
 "nbformat": 4,
 "nbformat_minor": 5
}
