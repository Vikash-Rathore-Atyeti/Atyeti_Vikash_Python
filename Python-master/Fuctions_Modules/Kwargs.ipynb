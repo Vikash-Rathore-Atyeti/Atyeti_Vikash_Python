{
 "cells": [
  {
   "cell_type": "code",
   "execution_count": 1,
   "id": "676a6668",
   "metadata": {},
   "outputs": [
    {
     "name": "stdout",
     "output_type": "stream",
     "text": [
      "name: Vikash\n",
      "age: 22\n",
      "city: Indore\n"
     ]
    }
   ],
   "source": [
    "def print_Items(**kwargs):\n",
    "    for key, value in kwargs.items():\n",
    "        print(f\"{key}: {value}\")\n",
    "\n",
    "print_Items(name=\"Vikash\", age=22, city=\"Indore\")"
   ]
  }
 ],
 "metadata": {
  "kernelspec": {
   "display_name": "Python 3",
   "language": "python",
   "name": "python3"
  },
  "language_info": {
   "codemirror_mode": {
    "name": "ipython",
    "version": 3
   },
   "file_extension": ".py",
   "mimetype": "text/x-python",
   "name": "python",
   "nbconvert_exporter": "python",
   "pygments_lexer": "ipython3",
   "version": "3.13.2"
  }
 },
 "nbformat": 4,
 "nbformat_minor": 5
}
