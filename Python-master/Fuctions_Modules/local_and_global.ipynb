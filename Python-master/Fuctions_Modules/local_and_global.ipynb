{
 "cells": [
  {
   "cell_type": "code",
   "execution_count": 2,
   "id": "2e89b3e8",
   "metadata": {},
   "outputs": [
    {
     "name": "stdout",
     "output_type": "stream",
     "text": [
      "Inside the function: 50\n",
      "Outside the function: 100\n"
     ]
    }
   ],
   "source": [
    "# Global variable\n",
    "counter = 100\n",
    "\n",
    "def update_counter():\n",
    "    # Local variable\n",
    "    counter = 50\n",
    "    print(\"Inside the function:\", counter)\n",
    "\n",
    "update_counter()\n",
    "print(\"Outside the function:\", counter)"
   ]
  }
 ],
 "metadata": {
  "kernelspec": {
   "display_name": "Python 3",
   "language": "python",
   "name": "python3"
  },
  "language_info": {
   "codemirror_mode": {
    "name": "ipython",
    "version": 3
   },
   "file_extension": ".py",
   "mimetype": "text/x-python",
   "name": "python",
   "nbconvert_exporter": "python",
   "pygments_lexer": "ipython3",
   "version": "3.13.2"
  }
 },
 "nbformat": 4,
 "nbformat_minor": 5
}
